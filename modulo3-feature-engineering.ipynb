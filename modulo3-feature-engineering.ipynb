{
 "cells": [
  {
   "cell_type": "markdown",
   "id": "900a6028",
   "metadata": {},
   "source": [
    "# Imports"
   ]
  },
  {
   "cell_type": "code",
   "execution_count": 52,
   "id": "bf88cc6f",
   "metadata": {
    "ExecuteTime": {
     "end_time": "2022-06-18T11:29:47.216731Z",
     "start_time": "2022-06-18T11:29:47.212317Z"
    }
   },
   "outputs": [],
   "source": [
    "import pandas as pd\n",
    "import inflection\n",
    "import numpy as np\n",
    "import seaborn as sns\n",
    "import datetime\n",
    "import matplotlib.pyplot as plt\n",
    "from IPython.display import Image"
   ]
  },
  {
   "cell_type": "markdown",
   "id": "443534ea",
   "metadata": {
    "heading_collapsed": true
   },
   "source": [
    "## Loading data"
   ]
  },
  {
   "cell_type": "code",
   "execution_count": 3,
   "id": "7fcb747c",
   "metadata": {
    "ExecuteTime": {
     "end_time": "2022-06-18T11:05:32.655865Z",
     "start_time": "2022-06-18T11:05:32.104864Z"
    },
    "hidden": true
   },
   "outputs": [],
   "source": [
    "df_sales_raw = pd.read_csv('datasets/train.csv', low_memory=False)\n",
    "df_store_raw = pd.read_csv('datasets/store.csv', low_memory=False)"
   ]
  },
  {
   "cell_type": "code",
   "execution_count": 4,
   "id": "084d5aed",
   "metadata": {
    "ExecuteTime": {
     "end_time": "2022-06-18T11:05:32.682370Z",
     "start_time": "2022-06-18T11:05:32.672262Z"
    },
    "hidden": true
   },
   "outputs": [
    {
     "data": {
      "text/html": [
       "<div>\n",
       "<style scoped>\n",
       "    .dataframe tbody tr th:only-of-type {\n",
       "        vertical-align: middle;\n",
       "    }\n",
       "\n",
       "    .dataframe tbody tr th {\n",
       "        vertical-align: top;\n",
       "    }\n",
       "\n",
       "    .dataframe thead th {\n",
       "        text-align: right;\n",
       "    }\n",
       "</style>\n",
       "<table border=\"1\" class=\"dataframe\">\n",
       "  <thead>\n",
       "    <tr style=\"text-align: right;\">\n",
       "      <th></th>\n",
       "      <th>Store</th>\n",
       "      <th>DayOfWeek</th>\n",
       "      <th>Date</th>\n",
       "      <th>Sales</th>\n",
       "      <th>Customers</th>\n",
       "      <th>Open</th>\n",
       "      <th>Promo</th>\n",
       "      <th>StateHoliday</th>\n",
       "      <th>SchoolHoliday</th>\n",
       "    </tr>\n",
       "  </thead>\n",
       "  <tbody>\n",
       "    <tr>\n",
       "      <th>0</th>\n",
       "      <td>1</td>\n",
       "      <td>5</td>\n",
       "      <td>2015-07-31</td>\n",
       "      <td>5263</td>\n",
       "      <td>555</td>\n",
       "      <td>1</td>\n",
       "      <td>1</td>\n",
       "      <td>0</td>\n",
       "      <td>1</td>\n",
       "    </tr>\n",
       "    <tr>\n",
       "      <th>1</th>\n",
       "      <td>2</td>\n",
       "      <td>5</td>\n",
       "      <td>2015-07-31</td>\n",
       "      <td>6064</td>\n",
       "      <td>625</td>\n",
       "      <td>1</td>\n",
       "      <td>1</td>\n",
       "      <td>0</td>\n",
       "      <td>1</td>\n",
       "    </tr>\n",
       "    <tr>\n",
       "      <th>2</th>\n",
       "      <td>3</td>\n",
       "      <td>5</td>\n",
       "      <td>2015-07-31</td>\n",
       "      <td>8314</td>\n",
       "      <td>821</td>\n",
       "      <td>1</td>\n",
       "      <td>1</td>\n",
       "      <td>0</td>\n",
       "      <td>1</td>\n",
       "    </tr>\n",
       "    <tr>\n",
       "      <th>3</th>\n",
       "      <td>4</td>\n",
       "      <td>5</td>\n",
       "      <td>2015-07-31</td>\n",
       "      <td>13995</td>\n",
       "      <td>1498</td>\n",
       "      <td>1</td>\n",
       "      <td>1</td>\n",
       "      <td>0</td>\n",
       "      <td>1</td>\n",
       "    </tr>\n",
       "    <tr>\n",
       "      <th>4</th>\n",
       "      <td>5</td>\n",
       "      <td>5</td>\n",
       "      <td>2015-07-31</td>\n",
       "      <td>4822</td>\n",
       "      <td>559</td>\n",
       "      <td>1</td>\n",
       "      <td>1</td>\n",
       "      <td>0</td>\n",
       "      <td>1</td>\n",
       "    </tr>\n",
       "  </tbody>\n",
       "</table>\n",
       "</div>"
      ],
      "text/plain": [
       "   Store  DayOfWeek        Date  Sales  Customers  Open  Promo StateHoliday  \\\n",
       "0      1          5  2015-07-31   5263        555     1      1            0   \n",
       "1      2          5  2015-07-31   6064        625     1      1            0   \n",
       "2      3          5  2015-07-31   8314        821     1      1            0   \n",
       "3      4          5  2015-07-31  13995       1498     1      1            0   \n",
       "4      5          5  2015-07-31   4822        559     1      1            0   \n",
       "\n",
       "   SchoolHoliday  \n",
       "0              1  \n",
       "1              1  \n",
       "2              1  \n",
       "3              1  \n",
       "4              1  "
      ]
     },
     "execution_count": 4,
     "metadata": {},
     "output_type": "execute_result"
    }
   ],
   "source": [
    "df_sales_raw.head()"
   ]
  },
  {
   "cell_type": "code",
   "execution_count": 5,
   "id": "6471472d",
   "metadata": {
    "ExecuteTime": {
     "end_time": "2022-06-18T11:05:32.849066Z",
     "start_time": "2022-06-18T11:05:32.824883Z"
    },
    "hidden": true
   },
   "outputs": [
    {
     "data": {
      "text/html": [
       "<div>\n",
       "<style scoped>\n",
       "    .dataframe tbody tr th:only-of-type {\n",
       "        vertical-align: middle;\n",
       "    }\n",
       "\n",
       "    .dataframe tbody tr th {\n",
       "        vertical-align: top;\n",
       "    }\n",
       "\n",
       "    .dataframe thead th {\n",
       "        text-align: right;\n",
       "    }\n",
       "</style>\n",
       "<table border=\"1\" class=\"dataframe\">\n",
       "  <thead>\n",
       "    <tr style=\"text-align: right;\">\n",
       "      <th></th>\n",
       "      <th>Store</th>\n",
       "      <th>StoreType</th>\n",
       "      <th>Assortment</th>\n",
       "      <th>CompetitionDistance</th>\n",
       "      <th>CompetitionOpenSinceMonth</th>\n",
       "      <th>CompetitionOpenSinceYear</th>\n",
       "      <th>Promo2</th>\n",
       "      <th>Promo2SinceWeek</th>\n",
       "      <th>Promo2SinceYear</th>\n",
       "      <th>PromoInterval</th>\n",
       "    </tr>\n",
       "  </thead>\n",
       "  <tbody>\n",
       "    <tr>\n",
       "      <th>0</th>\n",
       "      <td>1</td>\n",
       "      <td>c</td>\n",
       "      <td>a</td>\n",
       "      <td>1270.0</td>\n",
       "      <td>9.0</td>\n",
       "      <td>2008.0</td>\n",
       "      <td>0</td>\n",
       "      <td>NaN</td>\n",
       "      <td>NaN</td>\n",
       "      <td>NaN</td>\n",
       "    </tr>\n",
       "    <tr>\n",
       "      <th>1</th>\n",
       "      <td>2</td>\n",
       "      <td>a</td>\n",
       "      <td>a</td>\n",
       "      <td>570.0</td>\n",
       "      <td>11.0</td>\n",
       "      <td>2007.0</td>\n",
       "      <td>1</td>\n",
       "      <td>13.0</td>\n",
       "      <td>2010.0</td>\n",
       "      <td>Jan,Apr,Jul,Oct</td>\n",
       "    </tr>\n",
       "    <tr>\n",
       "      <th>2</th>\n",
       "      <td>3</td>\n",
       "      <td>a</td>\n",
       "      <td>a</td>\n",
       "      <td>14130.0</td>\n",
       "      <td>12.0</td>\n",
       "      <td>2006.0</td>\n",
       "      <td>1</td>\n",
       "      <td>14.0</td>\n",
       "      <td>2011.0</td>\n",
       "      <td>Jan,Apr,Jul,Oct</td>\n",
       "    </tr>\n",
       "    <tr>\n",
       "      <th>3</th>\n",
       "      <td>4</td>\n",
       "      <td>c</td>\n",
       "      <td>c</td>\n",
       "      <td>620.0</td>\n",
       "      <td>9.0</td>\n",
       "      <td>2009.0</td>\n",
       "      <td>0</td>\n",
       "      <td>NaN</td>\n",
       "      <td>NaN</td>\n",
       "      <td>NaN</td>\n",
       "    </tr>\n",
       "    <tr>\n",
       "      <th>4</th>\n",
       "      <td>5</td>\n",
       "      <td>a</td>\n",
       "      <td>a</td>\n",
       "      <td>29910.0</td>\n",
       "      <td>4.0</td>\n",
       "      <td>2015.0</td>\n",
       "      <td>0</td>\n",
       "      <td>NaN</td>\n",
       "      <td>NaN</td>\n",
       "      <td>NaN</td>\n",
       "    </tr>\n",
       "  </tbody>\n",
       "</table>\n",
       "</div>"
      ],
      "text/plain": [
       "   Store StoreType Assortment  CompetitionDistance  CompetitionOpenSinceMonth  \\\n",
       "0      1         c          a               1270.0                        9.0   \n",
       "1      2         a          a                570.0                       11.0   \n",
       "2      3         a          a              14130.0                       12.0   \n",
       "3      4         c          c                620.0                        9.0   \n",
       "4      5         a          a              29910.0                        4.0   \n",
       "\n",
       "   CompetitionOpenSinceYear  Promo2  Promo2SinceWeek  Promo2SinceYear  \\\n",
       "0                    2008.0       0              NaN              NaN   \n",
       "1                    2007.0       1             13.0           2010.0   \n",
       "2                    2006.0       1             14.0           2011.0   \n",
       "3                    2009.0       0              NaN              NaN   \n",
       "4                    2015.0       0              NaN              NaN   \n",
       "\n",
       "     PromoInterval  \n",
       "0              NaN  \n",
       "1  Jan,Apr,Jul,Oct  \n",
       "2  Jan,Apr,Jul,Oct  \n",
       "3              NaN  \n",
       "4              NaN  "
      ]
     },
     "execution_count": 5,
     "metadata": {},
     "output_type": "execute_result"
    }
   ],
   "source": [
    "df_store_raw.head()"
   ]
  },
  {
   "cell_type": "code",
   "execution_count": 6,
   "id": "a60298db",
   "metadata": {
    "ExecuteTime": {
     "end_time": "2022-06-18T11:05:34.635121Z",
     "start_time": "2022-06-18T11:05:34.487323Z"
    },
    "hidden": true
   },
   "outputs": [],
   "source": [
    "# merge\n",
    "df_raw = pd.merge(df_sales_raw, df_store_raw, how='left', on='Store')"
   ]
  },
  {
   "cell_type": "markdown",
   "id": "e6468f1b",
   "metadata": {
    "ExecuteTime": {
     "end_time": "2022-06-16T17:33:47.373673Z",
     "start_time": "2022-06-16T17:33:47.369335Z"
    },
    "heading_collapsed": true
   },
   "source": [
    "# 1.0 Descrição dos Dados\n"
   ]
  },
  {
   "cell_type": "code",
   "execution_count": 7,
   "id": "c7a1cb87",
   "metadata": {
    "ExecuteTime": {
     "end_time": "2022-06-18T11:05:35.808178Z",
     "start_time": "2022-06-18T11:05:35.628387Z"
    },
    "hidden": true
   },
   "outputs": [],
   "source": [
    "df1 = df_raw.copy()"
   ]
  },
  {
   "cell_type": "markdown",
   "id": "ffd7b2f9",
   "metadata": {
    "hidden": true
   },
   "source": [
    "## 1.1 Rename Columns\n"
   ]
  },
  {
   "cell_type": "code",
   "execution_count": 8,
   "id": "77263b04",
   "metadata": {
    "ExecuteTime": {
     "end_time": "2022-06-18T11:05:45.885453Z",
     "start_time": "2022-06-18T11:05:45.872546Z"
    },
    "hidden": true
   },
   "outputs": [],
   "source": [
    "cols_old = ['Store', 'DayOfWeek', 'Date', 'Sales', 'Customers', 'Open', 'Promo','StateHoliday', 'SchoolHoliday', \n",
    "            'StoreType', 'Assortment', 'CompetitionDistance', 'CompetitionOpenSinceMonth','CompetitionOpenSinceYear', \n",
    "            'Promo2', 'Promo2SinceWeek', 'Promo2SinceYear', 'PromoInterval']\n",
    "\n",
    "cols_new = []\n",
    "\n",
    "for c in cols_old:\n",
    "    cols_new.append(inflection.underscore(c))\n",
    "    \n",
    "df1.columns = cols_new"
   ]
  },
  {
   "cell_type": "markdown",
   "id": "2064a59d",
   "metadata": {
    "ExecuteTime": {
     "end_time": "2022-06-16T17:53:10.390216Z",
     "start_time": "2022-06-16T17:53:10.385909Z"
    },
    "hidden": true
   },
   "source": [
    "## 1.2 Data Dimension"
   ]
  },
  {
   "cell_type": "code",
   "execution_count": 9,
   "id": "b335ab6b",
   "metadata": {
    "ExecuteTime": {
     "end_time": "2022-06-18T11:05:46.760053Z",
     "start_time": "2022-06-18T11:05:46.756757Z"
    },
    "hidden": true
   },
   "outputs": [
    {
     "name": "stdout",
     "output_type": "stream",
     "text": [
      "Número de Linhas: 1017209\n",
      "Número de Colunas: 18\n"
     ]
    }
   ],
   "source": [
    "print(f'Número de Linhas: {df1.shape[0]}')\n",
    "print(f'Número de Colunas: {df1.shape[1]}')"
   ]
  },
  {
   "cell_type": "markdown",
   "id": "ede94087",
   "metadata": {
    "ExecuteTime": {
     "end_time": "2022-06-16T17:55:05.997418Z",
     "start_time": "2022-06-16T17:55:05.987517Z"
    },
    "hidden": true
   },
   "source": [
    "## 1.3 Data Types"
   ]
  },
  {
   "cell_type": "code",
   "execution_count": 10,
   "id": "12d33969",
   "metadata": {
    "ExecuteTime": {
     "end_time": "2022-06-18T11:05:47.549627Z",
     "start_time": "2022-06-18T11:05:47.537391Z"
    },
    "hidden": true
   },
   "outputs": [
    {
     "data": {
      "text/plain": [
       "store                             int64\n",
       "day_of_week                       int64\n",
       "date                             object\n",
       "sales                             int64\n",
       "customers                         int64\n",
       "open                              int64\n",
       "promo                             int64\n",
       "state_holiday                    object\n",
       "school_holiday                    int64\n",
       "store_type                       object\n",
       "assortment                       object\n",
       "competition_distance            float64\n",
       "competition_open_since_month    float64\n",
       "competition_open_since_year     float64\n",
       "promo2                            int64\n",
       "promo2_since_week               float64\n",
       "promo2_since_year               float64\n",
       "promo_interval                   object\n",
       "dtype: object"
      ]
     },
     "execution_count": 10,
     "metadata": {},
     "output_type": "execute_result"
    }
   ],
   "source": [
    "df1.dtypes"
   ]
  },
  {
   "cell_type": "code",
   "execution_count": 11,
   "id": "bc9550ac",
   "metadata": {
    "ExecuteTime": {
     "end_time": "2022-06-18T11:05:49.460844Z",
     "start_time": "2022-06-18T11:05:49.367709Z"
    },
    "hidden": true
   },
   "outputs": [],
   "source": [
    "df1['date'] = pd.to_datetime(df1['date'])"
   ]
  },
  {
   "cell_type": "markdown",
   "id": "f92d5744",
   "metadata": {
    "ExecuteTime": {
     "end_time": "2022-06-16T17:56:26.729458Z",
     "start_time": "2022-06-16T17:56:26.713329Z"
    },
    "hidden": true
   },
   "source": [
    "## 1.4 Check NA"
   ]
  },
  {
   "cell_type": "code",
   "execution_count": 12,
   "id": "3fce904c",
   "metadata": {
    "ExecuteTime": {
     "end_time": "2022-06-18T11:05:50.694523Z",
     "start_time": "2022-06-18T11:05:50.256995Z"
    },
    "hidden": true
   },
   "outputs": [
    {
     "data": {
      "text/plain": [
       "store                                0\n",
       "day_of_week                          0\n",
       "date                                 0\n",
       "sales                                0\n",
       "customers                            0\n",
       "open                                 0\n",
       "promo                                0\n",
       "state_holiday                        0\n",
       "school_holiday                       0\n",
       "store_type                           0\n",
       "assortment                           0\n",
       "competition_distance              2642\n",
       "competition_open_since_month    323348\n",
       "competition_open_since_year     323348\n",
       "promo2                               0\n",
       "promo2_since_week               508031\n",
       "promo2_since_year               508031\n",
       "promo_interval                  508031\n",
       "dtype: int64"
      ]
     },
     "execution_count": 12,
     "metadata": {},
     "output_type": "execute_result"
    }
   ],
   "source": [
    "df1.isna().sum()"
   ]
  },
  {
   "cell_type": "markdown",
   "id": "8537d50d",
   "metadata": {
    "hidden": true
   },
   "source": [
    "## 1.5 Fillout NA"
   ]
  },
  {
   "cell_type": "code",
   "execution_count": 13,
   "id": "32b4138d",
   "metadata": {
    "ExecuteTime": {
     "end_time": "2022-06-18T11:06:58.441912Z",
     "start_time": "2022-06-18T11:05:56.218680Z"
    },
    "hidden": true
   },
   "outputs": [],
   "source": [
    "# competition_distance\n",
    "# as distância que não existem vamos colocar 200000, que é um valor muito maior que a maior distância\n",
    "df1['competition_distance'] = df1['competition_distance'].apply(lambda x: 200000 if np.isnan(x) else x)\n",
    "\n",
    "# competition_open_since_month    \n",
    "# vamos completar os Na's com o mês da coluna 'date'\n",
    "df1['competition_open_since_month'] = df1[['date','competition_open_since_month']].apply(lambda x: x['date'].month\n",
    "                                                                                        if np.isnan(x['competition_open_since_month'])\n",
    "                                                                                        else x['competition_open_since_month'], axis=1)\n",
    "\n",
    "# competition_open_since_year   \n",
    "# vamos completar os Na's com o ano da coluna 'date'\n",
    "df1['competition_open_since_year'] = df1[['date','competition_open_since_year']].apply(lambda x: x['date'].year\n",
    "                                                                                        if np.isnan(x['competition_open_since_year'])\n",
    "                                                                                        else x['competition_open_since_year'], axis=1)\n",
    "\n",
    "\n",
    "# promo2_since_week      \n",
    "\n",
    "df1['promo2_since_week'] = df1[['date','promo2_since_week']].apply(lambda x: x['date'].week\n",
    "                                                                   if np.isnan(x['promo2_since_week'])\n",
    "                                                                   else x['promo2_since_week'], axis=1)\n",
    "\n",
    "# promo2_since_year   \n",
    "\n",
    "df1['promo2_since_year'] = df1[['date','promo2_since_year']].apply(lambda x: x['date'].year\n",
    "                                                                   if np.isnan(x['promo2_since_year'])\n",
    "                                                                   else x['promo2_since_year'], axis=1)\n",
    "\n",
    "# promo_interval  \n",
    "df1['promo_interval'].fillna(0, inplace=True)\n",
    "\n",
    "month_map = {1:'Jan', 2:'Feb', 3:'Mar', 4:'Apr', 5:'May', 6:'Jun', 7:'Jul', 8:'Aug', 9:'Sept', 10:'Oct', 11:'Nov', 12:'Dec'}\n",
    "df1['month_map'] = df1['date'].dt.month.map(month_map)\n",
    "\n",
    "\n",
    "df1['is_promo'] = df1[['promo_interval', 'month_map']].apply(lambda x: 0 if x['promo_interval'] == 0 \n",
    "                                                                   else 1 if x['month_map'] in x['promo_interval'].split(',')\n",
    "                                                                   else 0, axis=1)\n"
   ]
  },
  {
   "cell_type": "markdown",
   "id": "c8f79e27",
   "metadata": {
    "ExecuteTime": {
     "end_time": "2022-06-17T12:06:53.447409Z",
     "start_time": "2022-06-17T12:06:53.442052Z"
    },
    "hidden": true
   },
   "source": [
    "## 1.6 Change Types"
   ]
  },
  {
   "cell_type": "code",
   "execution_count": 14,
   "id": "a1dfedf0",
   "metadata": {
    "ExecuteTime": {
     "end_time": "2022-06-18T11:07:44.148650Z",
     "start_time": "2022-06-18T11:07:44.096553Z"
    },
    "hidden": true
   },
   "outputs": [],
   "source": [
    "df1['competition_open_since_month'] = df1['competition_open_since_month'].astype(int)\n",
    "df1['competition_open_since_year'] = df1['competition_open_since_year'].astype(int)\n",
    "\n",
    "df1['promo2_since_week'] = df1['promo2_since_week'].astype(int)\n",
    "df1['promo2_since_year'] = df1['promo2_since_year'].astype(int)"
   ]
  },
  {
   "cell_type": "markdown",
   "id": "5be71c64",
   "metadata": {
    "ExecuteTime": {
     "end_time": "2022-06-17T12:09:48.602109Z",
     "start_time": "2022-06-17T12:09:48.588350Z"
    },
    "hidden": true
   },
   "source": [
    "## 1.7 Descriptive Statistical"
   ]
  },
  {
   "cell_type": "code",
   "execution_count": 15,
   "id": "92b97b55",
   "metadata": {
    "ExecuteTime": {
     "end_time": "2022-06-18T11:07:45.422621Z",
     "start_time": "2022-06-18T11:07:45.417636Z"
    },
    "hidden": true
   },
   "outputs": [],
   "source": [
    "num_attributes = df1.select_dtypes(include=['int64', 'float64'])\n",
    "cat_attributes = df1.select_dtypes(include=['object'])"
   ]
  },
  {
   "cell_type": "markdown",
   "id": "f0d62219",
   "metadata": {
    "ExecuteTime": {
     "end_time": "2022-06-17T12:15:54.984548Z",
     "start_time": "2022-06-17T12:15:54.969325Z"
    },
    "hidden": true
   },
   "source": [
    "### 1.7.1 Num Attributes"
   ]
  },
  {
   "cell_type": "code",
   "execution_count": 16,
   "id": "3c2554e7",
   "metadata": {
    "ExecuteTime": {
     "end_time": "2022-06-18T11:07:49.896039Z",
     "start_time": "2022-06-18T11:07:47.557693Z"
    },
    "hidden": true
   },
   "outputs": [],
   "source": [
    "# Central Tendency\n",
    "# média\n",
    "ct1 = pd.DataFrame(num_attributes.apply(np.mean)).T\n",
    "# mediana\n",
    "ct2 = pd.DataFrame(num_attributes.apply(np.median)).T\n",
    "\n",
    "# Dispersion Tendency\n",
    "dt1 = pd.DataFrame(num_attributes.apply(np.std)).T\n",
    "dt2 = pd.DataFrame(num_attributes.apply(min)).T\n",
    "dt3 = pd.DataFrame(num_attributes.apply(max)).T\n",
    "dt4 = pd.DataFrame(num_attributes.apply(lambda x: x.max() - x.min())).T\n",
    "dt5 = pd.DataFrame(num_attributes.apply(lambda x: x.skew())).T\n",
    "dt6 = pd.DataFrame(num_attributes.apply(lambda x: x.kurtosis())).T\n",
    "\n",
    "df_statistic = pd.concat([dt2, dt3, dt4, ct1, ct2, dt1, dt5, dt6]).T.reset_index()"
   ]
  },
  {
   "cell_type": "code",
   "execution_count": 17,
   "id": "2bc0ca33",
   "metadata": {
    "ExecuteTime": {
     "end_time": "2022-06-18T11:07:49.978789Z",
     "start_time": "2022-06-18T11:07:49.976135Z"
    },
    "hidden": true
   },
   "outputs": [],
   "source": [
    "# Renomeando as colunas\n",
    "df_statistic.columns = ['attributes', 'min', 'max', 'range', 'mean', 'median', 'std', 'skew', 'kurtosis']"
   ]
  },
  {
   "cell_type": "code",
   "execution_count": 18,
   "id": "5725a570",
   "metadata": {
    "ExecuteTime": {
     "end_time": "2022-06-18T11:07:50.066699Z",
     "start_time": "2022-06-18T11:07:50.054380Z"
    },
    "hidden": true
   },
   "outputs": [
    {
     "data": {
      "text/html": [
       "<div>\n",
       "<style scoped>\n",
       "    .dataframe tbody tr th:only-of-type {\n",
       "        vertical-align: middle;\n",
       "    }\n",
       "\n",
       "    .dataframe tbody tr th {\n",
       "        vertical-align: top;\n",
       "    }\n",
       "\n",
       "    .dataframe thead th {\n",
       "        text-align: right;\n",
       "    }\n",
       "</style>\n",
       "<table border=\"1\" class=\"dataframe\">\n",
       "  <thead>\n",
       "    <tr style=\"text-align: right;\">\n",
       "      <th></th>\n",
       "      <th>attributes</th>\n",
       "      <th>min</th>\n",
       "      <th>max</th>\n",
       "      <th>range</th>\n",
       "      <th>mean</th>\n",
       "      <th>median</th>\n",
       "      <th>std</th>\n",
       "      <th>skew</th>\n",
       "      <th>kurtosis</th>\n",
       "    </tr>\n",
       "  </thead>\n",
       "  <tbody>\n",
       "    <tr>\n",
       "      <th>0</th>\n",
       "      <td>store</td>\n",
       "      <td>1.0</td>\n",
       "      <td>1115.0</td>\n",
       "      <td>1114.0</td>\n",
       "      <td>558.429727</td>\n",
       "      <td>558.0</td>\n",
       "      <td>321.908493</td>\n",
       "      <td>-0.000955</td>\n",
       "      <td>-1.200524</td>\n",
       "    </tr>\n",
       "    <tr>\n",
       "      <th>1</th>\n",
       "      <td>day_of_week</td>\n",
       "      <td>1.0</td>\n",
       "      <td>7.0</td>\n",
       "      <td>6.0</td>\n",
       "      <td>3.998341</td>\n",
       "      <td>4.0</td>\n",
       "      <td>1.997390</td>\n",
       "      <td>0.001593</td>\n",
       "      <td>-1.246873</td>\n",
       "    </tr>\n",
       "    <tr>\n",
       "      <th>2</th>\n",
       "      <td>sales</td>\n",
       "      <td>0.0</td>\n",
       "      <td>41551.0</td>\n",
       "      <td>41551.0</td>\n",
       "      <td>5773.818972</td>\n",
       "      <td>5744.0</td>\n",
       "      <td>3849.924283</td>\n",
       "      <td>0.641460</td>\n",
       "      <td>1.778375</td>\n",
       "    </tr>\n",
       "    <tr>\n",
       "      <th>3</th>\n",
       "      <td>customers</td>\n",
       "      <td>0.0</td>\n",
       "      <td>7388.0</td>\n",
       "      <td>7388.0</td>\n",
       "      <td>633.145946</td>\n",
       "      <td>609.0</td>\n",
       "      <td>464.411506</td>\n",
       "      <td>1.598650</td>\n",
       "      <td>7.091773</td>\n",
       "    </tr>\n",
       "    <tr>\n",
       "      <th>4</th>\n",
       "      <td>open</td>\n",
       "      <td>0.0</td>\n",
       "      <td>1.0</td>\n",
       "      <td>1.0</td>\n",
       "      <td>0.830107</td>\n",
       "      <td>1.0</td>\n",
       "      <td>0.375539</td>\n",
       "      <td>-1.758045</td>\n",
       "      <td>1.090723</td>\n",
       "    </tr>\n",
       "    <tr>\n",
       "      <th>5</th>\n",
       "      <td>promo</td>\n",
       "      <td>0.0</td>\n",
       "      <td>1.0</td>\n",
       "      <td>1.0</td>\n",
       "      <td>0.381515</td>\n",
       "      <td>0.0</td>\n",
       "      <td>0.485758</td>\n",
       "      <td>0.487838</td>\n",
       "      <td>-1.762018</td>\n",
       "    </tr>\n",
       "    <tr>\n",
       "      <th>6</th>\n",
       "      <td>school_holiday</td>\n",
       "      <td>0.0</td>\n",
       "      <td>1.0</td>\n",
       "      <td>1.0</td>\n",
       "      <td>0.178647</td>\n",
       "      <td>0.0</td>\n",
       "      <td>0.383056</td>\n",
       "      <td>1.677842</td>\n",
       "      <td>0.815154</td>\n",
       "    </tr>\n",
       "    <tr>\n",
       "      <th>7</th>\n",
       "      <td>competition_distance</td>\n",
       "      <td>20.0</td>\n",
       "      <td>200000.0</td>\n",
       "      <td>199980.0</td>\n",
       "      <td>5935.442677</td>\n",
       "      <td>2330.0</td>\n",
       "      <td>12547.646829</td>\n",
       "      <td>10.242344</td>\n",
       "      <td>147.789712</td>\n",
       "    </tr>\n",
       "    <tr>\n",
       "      <th>8</th>\n",
       "      <td>competition_open_since_month</td>\n",
       "      <td>1.0</td>\n",
       "      <td>12.0</td>\n",
       "      <td>11.0</td>\n",
       "      <td>6.786849</td>\n",
       "      <td>7.0</td>\n",
       "      <td>3.311085</td>\n",
       "      <td>-0.042076</td>\n",
       "      <td>-1.232607</td>\n",
       "    </tr>\n",
       "    <tr>\n",
       "      <th>9</th>\n",
       "      <td>competition_open_since_year</td>\n",
       "      <td>1900.0</td>\n",
       "      <td>2015.0</td>\n",
       "      <td>115.0</td>\n",
       "      <td>2010.324840</td>\n",
       "      <td>2012.0</td>\n",
       "      <td>5.515591</td>\n",
       "      <td>-7.235657</td>\n",
       "      <td>124.071304</td>\n",
       "    </tr>\n",
       "    <tr>\n",
       "      <th>10</th>\n",
       "      <td>promo2</td>\n",
       "      <td>0.0</td>\n",
       "      <td>1.0</td>\n",
       "      <td>1.0</td>\n",
       "      <td>0.500564</td>\n",
       "      <td>1.0</td>\n",
       "      <td>0.500000</td>\n",
       "      <td>-0.002255</td>\n",
       "      <td>-1.999999</td>\n",
       "    </tr>\n",
       "    <tr>\n",
       "      <th>11</th>\n",
       "      <td>promo2_since_week</td>\n",
       "      <td>1.0</td>\n",
       "      <td>52.0</td>\n",
       "      <td>51.0</td>\n",
       "      <td>23.619033</td>\n",
       "      <td>22.0</td>\n",
       "      <td>14.310057</td>\n",
       "      <td>0.178723</td>\n",
       "      <td>-1.184046</td>\n",
       "    </tr>\n",
       "    <tr>\n",
       "      <th>12</th>\n",
       "      <td>promo2_since_year</td>\n",
       "      <td>2009.0</td>\n",
       "      <td>2015.0</td>\n",
       "      <td>6.0</td>\n",
       "      <td>2012.793297</td>\n",
       "      <td>2013.0</td>\n",
       "      <td>1.662657</td>\n",
       "      <td>-0.784436</td>\n",
       "      <td>-0.210075</td>\n",
       "    </tr>\n",
       "    <tr>\n",
       "      <th>13</th>\n",
       "      <td>is_promo</td>\n",
       "      <td>0.0</td>\n",
       "      <td>1.0</td>\n",
       "      <td>1.0</td>\n",
       "      <td>0.171835</td>\n",
       "      <td>0.0</td>\n",
       "      <td>0.377237</td>\n",
       "      <td>1.739838</td>\n",
       "      <td>1.027039</td>\n",
       "    </tr>\n",
       "  </tbody>\n",
       "</table>\n",
       "</div>"
      ],
      "text/plain": [
       "                      attributes     min       max     range         mean  \\\n",
       "0                          store     1.0    1115.0    1114.0   558.429727   \n",
       "1                    day_of_week     1.0       7.0       6.0     3.998341   \n",
       "2                          sales     0.0   41551.0   41551.0  5773.818972   \n",
       "3                      customers     0.0    7388.0    7388.0   633.145946   \n",
       "4                           open     0.0       1.0       1.0     0.830107   \n",
       "5                          promo     0.0       1.0       1.0     0.381515   \n",
       "6                 school_holiday     0.0       1.0       1.0     0.178647   \n",
       "7           competition_distance    20.0  200000.0  199980.0  5935.442677   \n",
       "8   competition_open_since_month     1.0      12.0      11.0     6.786849   \n",
       "9    competition_open_since_year  1900.0    2015.0     115.0  2010.324840   \n",
       "10                        promo2     0.0       1.0       1.0     0.500564   \n",
       "11             promo2_since_week     1.0      52.0      51.0    23.619033   \n",
       "12             promo2_since_year  2009.0    2015.0       6.0  2012.793297   \n",
       "13                      is_promo     0.0       1.0       1.0     0.171835   \n",
       "\n",
       "    median           std       skew    kurtosis  \n",
       "0    558.0    321.908493  -0.000955   -1.200524  \n",
       "1      4.0      1.997390   0.001593   -1.246873  \n",
       "2   5744.0   3849.924283   0.641460    1.778375  \n",
       "3    609.0    464.411506   1.598650    7.091773  \n",
       "4      1.0      0.375539  -1.758045    1.090723  \n",
       "5      0.0      0.485758   0.487838   -1.762018  \n",
       "6      0.0      0.383056   1.677842    0.815154  \n",
       "7   2330.0  12547.646829  10.242344  147.789712  \n",
       "8      7.0      3.311085  -0.042076   -1.232607  \n",
       "9   2012.0      5.515591  -7.235657  124.071304  \n",
       "10     1.0      0.500000  -0.002255   -1.999999  \n",
       "11    22.0     14.310057   0.178723   -1.184046  \n",
       "12  2013.0      1.662657  -0.784436   -0.210075  \n",
       "13     0.0      0.377237   1.739838    1.027039  "
      ]
     },
     "execution_count": 18,
     "metadata": {},
     "output_type": "execute_result"
    }
   ],
   "source": [
    "df_statistic"
   ]
  },
  {
   "cell_type": "code",
   "execution_count": 126,
   "id": "b8651376",
   "metadata": {
    "ExecuteTime": {
     "end_time": "2022-06-17T12:46:38.144291Z",
     "start_time": "2022-06-17T12:46:38.141987Z"
    },
    "hidden": true
   },
   "outputs": [],
   "source": [
    "# sns.displot(df1['competition_distance'])"
   ]
  },
  {
   "cell_type": "markdown",
   "id": "1e74c8d0",
   "metadata": {
    "ExecuteTime": {
     "end_time": "2022-06-17T12:46:57.039306Z",
     "start_time": "2022-06-17T12:46:57.034200Z"
    },
    "hidden": true
   },
   "source": [
    "### 1.7.2 Categorical Attributes"
   ]
  },
  {
   "cell_type": "code",
   "execution_count": 19,
   "id": "8235ccb9",
   "metadata": {
    "ExecuteTime": {
     "end_time": "2022-06-18T11:07:54.289936Z",
     "start_time": "2022-06-18T11:07:54.134950Z"
    },
    "hidden": true
   },
   "outputs": [
    {
     "data": {
      "text/plain": [
       "state_holiday      4\n",
       "store_type         4\n",
       "assortment         3\n",
       "promo_interval     4\n",
       "month_map         12\n",
       "dtype: int64"
      ]
     },
     "execution_count": 19,
     "metadata": {},
     "output_type": "execute_result"
    }
   ],
   "source": [
    "cat_attributes.apply(lambda x: len(x.unique()))"
   ]
  },
  {
   "cell_type": "code",
   "execution_count": 20,
   "id": "3f473c9c",
   "metadata": {
    "ExecuteTime": {
     "end_time": "2022-06-18T11:07:55.771403Z",
     "start_time": "2022-06-18T11:07:55.332853Z"
    },
    "hidden": true,
    "scrolled": false
   },
   "outputs": [
    {
     "data": {
      "image/png": "[encoded data removed]",
      "text/plain": [
       "<Figure size 1152x576 with 3 Axes>"
      ]
     },
     "metadata": {
      "needs_background": "light"
     },
     "output_type": "display_data"
    }
   ],
   "source": [
    "aux1 = df1[(df1['sales'] > 0) & (df1['state_holiday'] != '0')]\n",
    "\n",
    "plt.subplot(1, 3, 1)\n",
    "a1 = sns.boxplot(x='state_holiday', y='sales', data=aux1)\n",
    "a1.figure.set_size_inches(16, 8)\n",
    "\n",
    "plt.subplot(1, 3, 2)\n",
    "a2 = sns.boxplot(x='store_type', y='sales', data=aux1)\n",
    "a2.figure.set_size_inches(16, 8)\n",
    "\n",
    "plt.subplot(1, 3, 3)\n",
    "a3 = sns.boxplot(x='assortment', y='sales', data=aux1)\n",
    "a3.figure.set_size_inches(16, 8)"
   ]
  },
  {
   "cell_type": "code",
   "execution_count": 29,
   "id": "fcc145e0",
   "metadata": {
    "ExecuteTime": {
     "end_time": "2022-06-18T11:10:54.715289Z",
     "start_time": "2022-06-18T11:10:47.196986Z"
    },
    "hidden": true
   },
   "outputs": [],
   "source": [
    "df1.to_csv('datasets/data_train_store.csv', index=False)"
   ]
  },
  {
   "cell_type": "markdown",
   "id": "354b6cc6",
   "metadata": {},
   "source": [
    "# 2.0 Feature Engineering"
   ]
  },
  {
   "cell_type": "code",
   "execution_count": 129,
   "id": "9e6ebd57",
   "metadata": {
    "ExecuteTime": {
     "end_time": "2022-06-18T13:00:08.506328Z",
     "start_time": "2022-06-18T13:00:06.766649Z"
    }
   },
   "outputs": [],
   "source": [
    "df2 = pd.read_csv('datasets/data_train_store.csv', low_memory=False)\n",
    "\n",
    "df2['date'] = pd.to_datetime(df2['date'])"
   ]
  },
  {
   "cell_type": "markdown",
   "id": "894e40e7",
   "metadata": {
    "ExecuteTime": {
     "end_time": "2022-06-18T11:15:51.827379Z",
     "start_time": "2022-06-18T11:15:51.825336Z"
    },
    "heading_collapsed": true
   },
   "source": [
    "## 2.1 Mapa Mental de Hipóteses"
   ]
  },
  {
   "cell_type": "code",
   "execution_count": 21,
   "id": "357f56b6",
   "metadata": {
    "ExecuteTime": {
     "end_time": "2022-06-18T11:07:58.099824Z",
     "start_time": "2022-06-18T11:07:58.074496Z"
    },
    "hidden": true
   },
   "outputs": [
    {
     "data": {
      "image/png": "[encoded data removed]",
      "text/plain": [
       "<IPython.core.display.Image object>"
      ]
     },
     "execution_count": 21,
     "metadata": {},
     "output_type": "execute_result"
    }
   ],
   "source": [
    "Image('img/mindmap_hypoteses.png')"
   ]
  },
  {
   "cell_type": "markdown",
   "id": "62ce6ae6",
   "metadata": {
    "ExecuteTime": {
     "end_time": "2022-06-17T18:34:44.073898Z",
     "start_time": "2022-06-17T18:34:44.071809Z"
    },
    "heading_collapsed": true
   },
   "source": [
    "## 2.2 Criação das Hipóteses"
   ]
  },
  {
   "cell_type": "markdown",
   "id": "231c4625",
   "metadata": {
    "ExecuteTime": {
     "end_time": "2022-06-17T18:36:04.257315Z",
     "start_time": "2022-06-17T18:36:04.254927Z"
    },
    "hidden": true
   },
   "source": [
    "### 2.2.1 Hipóteses de Lojas"
   ]
  },
  {
   "cell_type": "markdown",
   "id": "c565fcaa",
   "metadata": {
    "hidden": true
   },
   "source": [
    "**H1.** Lojas com número maior de funcionários deveriam vender mais.\n",
    "\n",
    "**H2.** Lojas com maior capacidade de estoque deveriam vender mais.\n",
    "\n",
    "**H3.** Lojas com maior porte deveriam vender mais.\n",
    "\n",
    "**H4.** Lojas com maior sortimentos deveriam vender mais.\n",
    "\n",
    "**H5.** Lojas com competidores mais próximos deveriam vender menos.\n",
    "\n",
    "**H6.** Lojas com competidores à mais tempo deveriam vendem mais."
   ]
  },
  {
   "cell_type": "markdown",
   "id": "94720db0",
   "metadata": {
    "ExecuteTime": {
     "end_time": "2022-06-17T18:36:22.233331Z",
     "start_time": "2022-06-17T18:36:22.227776Z"
    },
    "hidden": true
   },
   "source": [
    "### 2.2.2 Hipóteses dos Produtos "
   ]
  },
  {
   "cell_type": "markdown",
   "id": "bc160319",
   "metadata": {
    "ExecuteTime": {
     "end_time": "2022-06-17T18:42:07.812619Z",
     "start_time": "2022-06-17T18:42:07.807266Z"
    },
    "hidden": true
   },
   "source": [
    "**H1.** Lojas que investem mais em Marketing deveriam vender mais\n",
    "\n",
    "**H2.** Lojas com maior exposição de produto deveriam vender mais.\n",
    "\n",
    "**H3.** Lojas com produtos com preço menor deveriam vender mais.\n",
    "\n",
    "**H5.** Lojas com promoções mais agressivas (descontos maiores), deveriam vender mais.\n",
    "\n",
    "**H6.** Lojas com promoções ativas por mais tempo deveriam vender mais.\n",
    "\n",
    "**H7.** Lojas com mais dias de promoção deveriam vender mais.\n",
    "\n",
    "**H8.** Lojas com mais promoções consecutivas deveriam vender mais."
   ]
  },
  {
   "cell_type": "markdown",
   "id": "6a503e3c",
   "metadata": {
    "hidden": true
   },
   "source": [
    "### 2.2.3 Hipóteses Temporais"
   ]
  },
  {
   "cell_type": "markdown",
   "id": "38252dac",
   "metadata": {
    "hidden": true
   },
   "source": [
    "**H1.** Lojas abertas durante o feriado de Natal deveriam vender mais.\n",
    "\n",
    "**H2.** Lojas deveriam vender mais ao longo dos anos.\n",
    "\n",
    "**H3.** Lojas deveriam vender mais no segundo semestre do ano.\n",
    "\n",
    "**H4.** Lojas deveriam vender mais depois do dia 10 de cada mês.\n",
    "\n",
    "**H5.** Lojas deveriam vender menos aos finais de semana.\n",
    "\n",
    "**H6.** Lojas deveriam vender menos durante os feriados escolares."
   ]
  },
  {
   "cell_type": "markdown",
   "id": "c92a51d1",
   "metadata": {
    "hidden": true
   },
   "source": [
    "### 2.2.4 Lista Final de Hipóteses "
   ]
  },
  {
   "cell_type": "markdown",
   "id": "636aef4a",
   "metadata": {
    "ExecuteTime": {
     "end_time": "2022-06-17T19:01:13.475647Z",
     "start_time": "2022-06-17T19:01:13.468551Z"
    },
    "hidden": true
   },
   "source": [
    "Depois de pensar em várias hipóteses, vamos selecionar aquelas que podemos analisar com dados que já temos agora.\n",
    "\n",
    "**H1.** Lojas com maior sortimentos deveriam vender mais.\n",
    "\n",
    "**H2.** Lojas com competidores mais próximos deveriam vender menos.\n",
    "\n",
    "\n",
    "**H3.** Lojas com competidores à mais tempo deveriam vendem mais.\n",
    "\n",
    "**H4.** Lojas com promoções ativas por mais tempo deveriam vender mais.\n",
    "\n",
    "**H5.** Lojas com mais dias de promoção deveriam vender mais.\n",
    "\n",
    "**H7.** Lojas com mais promoções consecutivas deveriam vender mais.\n",
    "\n",
    "**H8.** Lojas abertas durante o feriado de Natal deveriam vender mais.\n",
    "\n",
    "**H9.** Lojas deveriam vender mais ao longo dos anos.\n",
    "\n",
    "**H10.** Lojas deveriam vender mais no segundo semestre do ano.\n",
    "\n",
    "**H11.** Lojas deveriam vender mais depois do dia 10 de cada mês.\n",
    "\n",
    "**H12.** Lojas deveriam vender menos aos finais de semana.\n",
    "\n",
    "**H13.** Lojas deveriam vender menos durante os feriados escolares.\n"
   ]
  },
  {
   "cell_type": "markdown",
   "id": "208665e0",
   "metadata": {},
   "source": [
    "## 2.3 Feature Engineering"
   ]
  },
  {
   "cell_type": "code",
   "execution_count": 130,
   "id": "fcc6e4da",
   "metadata": {
    "ExecuteTime": {
     "end_time": "2022-06-18T13:00:39.107842Z",
     "start_time": "2022-06-18T13:00:11.500439Z"
    }
   },
   "outputs": [],
   "source": [
    "# year\n",
    "df2['year'] = df2['date'].dt.year\n",
    "\n",
    "# month\n",
    "df2['moonth'] = df2['date'].dt.month\n",
    "\n",
    "# day\n",
    "df2['day'] = df2['date'].dt.day\n",
    "\n",
    "# week of year\n",
    "df2['week_of_year'] = df2['date'].dt.isocalendar().week\n",
    "df2['week_of_year'] = df2['week_of_year'].astype('int64') \n",
    "\n",
    "# formato da data: Year-Week\n",
    "df2['year_week'] = df2['date'].dt.strftime('%Y-%W')\n",
    "\n",
    "# competition since\n",
    "df2['competition_since'] = df2.apply(lambda x: datetime.datetime(year=x['competition_open_since_year'],\n",
    "                                                                 month=x['competition_open_since_month'],\n",
    "                                                                 day=1), axis=1)\n",
    "df2['competition_time_month'] = ((df2['date'] - df2['competition_since'])/30).dt.days.astype(int)\n",
    "\n",
    "# promo since\n",
    "df2['promo_since'] = df2['promo2_since_year'].astype(str) + '-' + df2['promo2_since_week'].astype(str) + '-1'\n",
    "df2['promo_since'] = df2['promo_since'].apply(lambda x: datetime.datetime.strptime(x, '%Y-%W-%w') - datetime.timedelta(days=7))\n",
    "df2['promo_time_week'] = ((df2['date'] - df2['promo_since'])/7).dt.days\n",
    "\n",
    "# assortment\n",
    "df2['assortment'] = df2['assortment'].apply(lambda x: 'basic' if x == 'a' else\n",
    "                                                      'extra ' if x == 'b' else\n",
    "                                                      'extended')\n",
    "\n",
    "# state holiday\n",
    "df2['state_holiday'] = df2['state_holiday'].apply(lambda x: 'public_holiday' if x == 'a' else \n",
    "                                                            'easter' if x == 'b' else\n",
    "                                                            'christmas' if  x == 'c' else\n",
    "                                                            'regular_day')"
   ]
  },
  {
   "cell_type": "markdown",
   "id": "c58e5691",
   "metadata": {},
   "source": [
    "# 3.0 XXXXXX"
   ]
  },
  {
   "cell_type": "code",
   "execution_count": null,
   "id": "853e8d8a",
   "metadata": {},
   "outputs": [],
   "source": []
  }
 ],
 "metadata": {
  "kernelspec": {
   "display_name": "Python 3 (ipykernel)",
   "language": "python",
   "name": "python3"
  },
  "language_info": {
   "codemirror_mode": {
    "name": "ipython",
    "version": 3
   },
   "file_extension": ".py",
   "mimetype": "text/x-python",
   "name": "python",
   "nbconvert_exporter": "python",
   "pygments_lexer": "ipython3",
   "version": "3.9.12"
  },
  "latex_envs": {
   "LaTeX_envs_menu_present": true,
   "autoclose": false,
   "autocomplete": true,
   "bibliofile": "biblio.bib",
   "cite_by": "apalike",
   "current_citInitial": 1,
   "eqLabelWithNumbers": true,
   "eqNumInitial": 1,
   "hotkeys": {
    "equation": "Ctrl-E",
    "itemize": "Ctrl-I"
   },
   "labels_anchors": false,
   "latex_user_defs": false,
   "report_style_numbering": false,
   "user_envs_cfg": false
  },
  "varInspector": {
   "cols": {
    "lenName": 16,
    "lenType": 16,
    "lenVar": 40
   },
   "kernels_config": {
    "python": {
     "delete_cmd_postfix": "",
     "delete_cmd_prefix": "del ",
     "library": "var_list.py",
     "varRefreshCmd": "print(var_dic_list())"
    },
    "r": {
     "delete_cmd_postfix": ") ",
     "delete_cmd_prefix": "rm(",
     "library": "var_list.r",
     "varRefreshCmd": "cat(var_dic_list()) "
    }
   },
   "types_to_exclude": [
    "module",
    "function",
    "builtin_function_or_method",
    "instance",
    "_Feature"
   ],
   "window_display": false
  }
 },
 "nbformat": 4,
 "nbformat_minor": 5
}
